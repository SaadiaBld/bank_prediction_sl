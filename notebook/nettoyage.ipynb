{
 "cells": [
  {
   "cell_type": "code",
   "execution_count": 2,
   "metadata": {},
   "outputs": [],
   "source": [
    "import pandas as pd\n",
    "import matplotlib.pyplot as plt  \n",
    "import numpy as np \n",
    "import seaborn as sns "
   ]
  },
  {
   "cell_type": "code",
   "execution_count": 24,
   "metadata": {},
   "outputs": [
    {
     "name": "stderr",
     "output_type": "stream",
     "text": [
      "/tmp/ipykernel_40092/752727223.py:1: DtypeWarning: Columns (9) have mixed types. Specify dtype option on import or set low_memory=False.\n",
      "  data_lite = pd.read_csv('SBAnational.csv')\n"
     ]
    },
    {
     "name": "stdout",
     "output_type": "stream",
     "text": [
      "Nombre de lignes : 899164\n",
      "Nombre de colonnes : 27\n"
     ]
    }
   ],
   "source": [
    "data_lite = pd.read_csv('SBAnational.csv')\n",
    "\n",
    "# obtenir le nombre de lignes et de colonnes de votre dataframe\n",
    "nombre_lignes, nombre_colonnes = data_lite.shape\n",
    "\n",
    "print(\"Nombre de lignes :\", nombre_lignes)\n",
    "print(\"Nombre de colonnes :\", nombre_colonnes)\n"
   ]
  },
  {
   "cell_type": "markdown",
   "metadata": {},
   "source": [
    "##### On crée un nouveau dataframe où les colonnes qui sont inutiles pour les prédictions sont supprimées ainsi que les variables suspectées de faire du dataleaking.\n",
    "En faisant un randomforest sur les données brutes, on obtient des scores trés proches de 1 avec les variables: 'DisbursementDate', 'BalanceGross', 'LoanNr_ChkDgt', 'ChgOffDate', 'DisbursementGross', 'ChgOffPrinGr'."
   ]
  },
  {
   "cell_type": "code",
   "execution_count": 4,
   "metadata": {},
   "outputs": [],
   "source": [
    "#data_lite = data.drop(['DisbursementDate', 'BalanceGross', 'LoanNr_ChkDgt', 'ChgOffDate', 'DisbursementGross', 'ChgOffPrinGr'], axis=1)\n",
    "#data_lite.head(2)"
   ]
  },
  {
   "cell_type": "markdown",
   "metadata": {},
   "source": [
    "#####  Vérifier les types des variables, les valeurs manquantes ou suspectes.\n",
    "On vérifie les valeurs uniques pour chaque variable du dataframe ainsi que les 'missing values'."
   ]
  },
  {
   "cell_type": "code",
   "execution_count": 5,
   "metadata": {},
   "outputs": [
    {
     "name": "stdout",
     "output_type": "stream",
     "text": [
      "LoanNr_ChkDgt             0\n",
      "Name                     14\n",
      "City                     30\n",
      "State                    14\n",
      "Zip                       0\n",
      "Bank                   1559\n",
      "BankState              1566\n",
      "NAICS                     0\n",
      "ApprovalDate              0\n",
      "ApprovalFY                0\n",
      "Term                      0\n",
      "NoEmp                     0\n",
      "NewExist                136\n",
      "CreateJob                 0\n",
      "RetainedJob               0\n",
      "FranchiseCode             0\n",
      "UrbanRural                0\n",
      "RevLineCr              4528\n",
      "LowDoc                 2582\n",
      "ChgOffDate           736465\n",
      "DisbursementDate       2368\n",
      "DisbursementGross         0\n",
      "BalanceGross              0\n",
      "MIS_Status             1997\n",
      "ChgOffPrinGr              0\n",
      "GrAppv                    0\n",
      "SBA_Appv                  0\n",
      "dtype: int64\n"
     ]
    },
    {
     "data": {
      "text/plain": [
       "LoanNr_ChkDgt          int64\n",
       "Name                  object\n",
       "City                  object\n",
       "State                 object\n",
       "Zip                    int64\n",
       "Bank                  object\n",
       "BankState             object\n",
       "NAICS                  int64\n",
       "ApprovalDate          object\n",
       "ApprovalFY            object\n",
       "Term                   int64\n",
       "NoEmp                  int64\n",
       "NewExist             float64\n",
       "CreateJob              int64\n",
       "RetainedJob            int64\n",
       "FranchiseCode          int64\n",
       "UrbanRural             int64\n",
       "RevLineCr             object\n",
       "LowDoc                object\n",
       "ChgOffDate            object\n",
       "DisbursementDate      object\n",
       "DisbursementGross     object\n",
       "BalanceGross          object\n",
       "MIS_Status            object\n",
       "ChgOffPrinGr          object\n",
       "GrAppv                object\n",
       "SBA_Appv              object\n",
       "dtype: object"
      ]
     },
     "execution_count": 5,
     "metadata": {},
     "output_type": "execute_result"
    }
   ],
   "source": [
    "print(data_lite.isnull().sum())\n",
    "\n",
    "data_lite.dtypes\n"
   ]
  },
  {
   "cell_type": "markdown",
   "metadata": {},
   "source": [
    "#### Vérifie l'existence de doublons et les supprimer le cas échéant"
   ]
  },
  {
   "cell_type": "code",
   "execution_count": 6,
   "metadata": {},
   "outputs": [
    {
     "name": "stdout",
     "output_type": "stream",
     "text": [
      "Empty DataFrame\n",
      "Columns: [LoanNr_ChkDgt, Name, City, State, Zip, Bank, BankState, NAICS, ApprovalDate, ApprovalFY, Term, NoEmp, NewExist, CreateJob, RetainedJob, FranchiseCode, UrbanRural, RevLineCr, LowDoc, ChgOffDate, DisbursementDate, DisbursementGross, BalanceGross, MIS_Status, ChgOffPrinGr, GrAppv, SBA_Appv]\n",
      "Index: []\n",
      "\n",
      "[0 rows x 27 columns]\n",
      "Empty DataFrame\n",
      "Columns: [LoanNr_ChkDgt, Name, City, State, Zip, Bank, BankState, NAICS, ApprovalDate, ApprovalFY, Term, NoEmp, NewExist, CreateJob, RetainedJob, FranchiseCode, UrbanRural, RevLineCr, LowDoc, ChgOffDate, DisbursementDate, DisbursementGross, BalanceGross, MIS_Status, ChgOffPrinGr, GrAppv, SBA_Appv]\n",
      "Index: []\n",
      "\n",
      "[0 rows x 27 columns]\n"
     ]
    }
   ],
   "source": [
    "#doublons sur l'ensemble des variables\n",
    "doublons = data_lite[data_lite.duplicated(keep='first')]\n",
    "print (doublons)\n",
    "\n",
    "\n",
    "# #supprime les doublons trouvés et vérifie qu'ils sont absents\n",
    "data_lite = data_lite.drop(doublons.index)\n",
    "print(doublons)\n"
   ]
  },
  {
   "cell_type": "markdown",
   "metadata": {},
   "source": [
    "#### Vérifier valeurs manquantes dans target pour les supprimer"
   ]
  },
  {
   "cell_type": "code",
   "execution_count": 7,
   "metadata": {},
   "outputs": [
    {
     "name": "stdout",
     "output_type": "stream",
     "text": [
      "['P I F' 'CHGOFF']\n"
     ]
    }
   ],
   "source": [
    "data_lite['MIS_Status'].isnull().sum()\n",
    "\n",
    "data_lite.dropna(subset=['MIS_Status'], inplace=True)\n",
    "\n",
    "print(data_lite['MIS_Status'].unique())\n"
   ]
  },
  {
   "cell_type": "markdown",
   "metadata": {},
   "source": [
    "On transforme les dates en type 'DateTime'"
   ]
  },
  {
   "cell_type": "code",
   "execution_count": 8,
   "metadata": {},
   "outputs": [
    {
     "data": {
      "text/plain": [
       "LoanNr_ChkDgt          int64\n",
       "Name                  object\n",
       "City                  object\n",
       "State                 object\n",
       "Zip                    int64\n",
       "Bank                  object\n",
       "BankState             object\n",
       "NAICS                  int64\n",
       "ApprovalDate          object\n",
       "ApprovalFY            object\n",
       "Term                   int64\n",
       "NoEmp                  int64\n",
       "NewExist             float64\n",
       "CreateJob              int64\n",
       "RetainedJob            int64\n",
       "FranchiseCode          int64\n",
       "UrbanRural             int64\n",
       "RevLineCr             object\n",
       "LowDoc                object\n",
       "ChgOffDate            object\n",
       "DisbursementDate      object\n",
       "DisbursementGross     object\n",
       "BalanceGross          object\n",
       "MIS_Status            object\n",
       "ChgOffPrinGr          object\n",
       "GrAppv                object\n",
       "SBA_Appv              object\n",
       "dtype: object"
      ]
     },
     "execution_count": 8,
     "metadata": {},
     "output_type": "execute_result"
    }
   ],
   "source": [
    "data_lite['ApprovalDate'] = pd.to_datetime(data_lite['ApprovalDate'], dayfirst= False) #pour convertir des données en date\n",
    "\n",
    "pd.options.display.date_dayfirst = True\n",
    "data_lite['ApprovalDate'] = data_lite['ApprovalDate'].dt.strftime('%d/%m/%Y')  #pour formater les dates déjà converties dans un format specifique\n",
    "data_lite\n",
    "\n",
    "#retirer A de 1976A dans les cases concernées\n",
    "data_lite['ApprovalFY'] = data_lite['ApprovalFY'].str.replace('A', '')\n",
    "data_lite['ApprovalFY'].dtypes #object\n",
    "\n",
    "data_lite.head(2)\n",
    "data_lite.dtypes"
   ]
  },
  {
   "cell_type": "markdown",
   "metadata": {},
   "source": [
    "Vérifier les valeurs uniques des colonnes. Si les valeurs différent des modalités officielles, on les remplace par NaN."
   ]
  },
  {
   "cell_type": "code",
   "execution_count": 9,
   "metadata": {},
   "outputs": [
    {
     "data": {
      "text/plain": [
       "dtype('int64')"
      ]
     },
     "execution_count": 9,
     "metadata": {},
     "output_type": "execute_result"
    }
   ],
   "source": [
    "data_lite['MIS_Status'].unique() \n",
    "\n",
    "# on supprime les valeurs manquantes de la target\n",
    "data_lite.dropna(subset=['MIS_Status'], inplace=True)\n",
    "\n",
    "# encodage de la target en variables numérique\n",
    "data_lite['MIS_Status'] = data_lite['MIS_Status'].map({'P I F': 0, 'CHGOFF': 1})\n",
    "data_lite.MIS_Status.dtype"
   ]
  },
  {
   "cell_type": "code",
   "execution_count": 10,
   "metadata": {},
   "outputs": [
    {
     "data": {
      "text/plain": [
       "array(['N', nan, 'Y'], dtype=object)"
      ]
     },
     "execution_count": 10,
     "metadata": {},
     "output_type": "execute_result"
    }
   ],
   "source": [
    "data_lite['RevLineCr'].unique() # renvoie:array(['N', '0', 'Y', 'T',......, 'Q']\n",
    "\n",
    "#cree variable qui stocke les valeurs anormales de revlinecr\n",
    "valeurs_odd = [ 'NaN', 'nan','0', 'T','`', ',', '1', 'C', '3', '2', 'R', '7','A', '5', '.', '4', '-', 'Q']\n",
    "\n",
    "#reamplace valeurs etranges par Nan\n",
    "data_lite['RevLineCr'] = data_lite['RevLineCr'].replace(valeurs_odd, np.nan)\n",
    "\n",
    "#verifie les valeurs uniques de revlinecr\n",
    "data_lite['RevLineCr'].unique()"
   ]
  },
  {
   "cell_type": "code",
   "execution_count": 11,
   "metadata": {},
   "outputs": [
    {
     "data": {
      "text/plain": [
       "array([ 84,  60, 180, 240, 120,  45, 297, 162,  12, 300,  87, 114, 144,\n",
       "       126,  83, 102,  80, 137,  42,  96, 167,   7,  36,  37,  26, 264,\n",
       "        72,  24,   5,  54,  66, 161,  71,   4,  93, 288, 108,  10,  13,\n",
       "        90,  19,  16,   3,  27, 149,  41, 246,  18,  57, 104,  82, 298,\n",
       "        14,  61, 127,  58,  44,  32,  85,  48,  31, 112,  38,  73,  47,\n",
       "        11, 134,  15,  79,  53,  39,   6, 255,  55, 133,  95,  35,  59,\n",
       "        62,  68, 123,  46,  70, 138,  40,  52,  25,  65,  91,   1,  74,\n",
       "        49, 103,  77,  86,  63,  56,  22,   0,  97,  23,  17,  69,  21,\n",
       "        43,  89, 276,  92, 183,   2, 132,  34, 131,   9,  78,  99, 129,\n",
       "       216,   8,  29, 289,  30, 119, 228, 168, 208,  81, 147, 125,  94,\n",
       "        51, 211,  64, 111, 266,  75, 306,  28, 232, 117, 118, 309, 303,\n",
       "        98, 191, 116,  76, 113, 292,  88, 166, 244, 176, 258, 203, 231,\n",
       "       142,  33, 157, 165,  50, 210, 294, 301, 106,  20, 318, 229, 204,\n",
       "       269, 241, 178, 115, 174, 192,  67, 100, 141, 282, 122, 156, 153,\n",
       "       268, 249, 238, 233, 105, 263, 124, 279, 140, 186, 107, 190, 308,\n",
       "       128, 243, 302, 299, 280, 223, 311, 222, 202, 257, 130, 101, 121,\n",
       "       278, 272, 319, 283, 221, 250, 290, 199, 252, 187, 310, 304, 136,\n",
       "       261, 196, 181, 175, 195, 177, 139, 110, 242, 270, 277, 184, 150,\n",
       "       207, 358, 213, 273, 357, 248, 275, 164, 239, 206, 215, 170, 254,\n",
       "       217, 172, 158, 218, 189, 256, 179, 262, 193, 146, 155, 135, 185,\n",
       "       307, 200, 109, 265, 349, 209, 236, 251, 145, 152, 169, 245, 230,\n",
       "       285, 201, 293, 171, 227, 188, 225, 247, 163, 143, 235, 160, 148,\n",
       "       253, 159, 295, 198, 271, 234, 237, 336, 220, 291, 287, 154, 219,\n",
       "       197, 312, 284, 281, 151, 267, 274, 182, 212, 305, 205, 226, 194,\n",
       "       259, 214, 173, 224, 385, 313, 340, 461, 296, 343, 348, 286, 260,\n",
       "       334, 320, 315, 360, 421, 342, 351, 372, 314, 354, 435, 316, 480,\n",
       "       329, 387, 325, 321, 317, 352, 359, 389, 333, 330, 417, 404, 370,\n",
       "       324, 398, 419, 425, 414, 365, 345, 481, 350, 335, 369, 341, 355,\n",
       "       362, 322, 339, 375, 323, 347, 327, 505, 326, 418, 328, 363, 413,\n",
       "       361, 356, 396, 438, 382, 364, 367, 374, 442, 353, 527, 569, 338,\n",
       "       366, 386, 368, 428, 346, 388, 430, 443, 381, 409, 445, 384, 391,\n",
       "       511, 412, 449, 403, 434, 402, 423, 440, 429])"
      ]
     },
     "execution_count": 11,
     "metadata": {},
     "output_type": "execute_result"
    }
   ],
   "source": [
    "data_lite['Term'].unique() #valeurs numériques "
   ]
  },
  {
   "cell_type": "code",
   "execution_count": 12,
   "metadata": {},
   "outputs": [
    {
     "data": {
      "text/plain": [
       "array([ 2.,  1., nan])"
      ]
     },
     "execution_count": 12,
     "metadata": {},
     "output_type": "execute_result"
    }
   ],
   "source": [
    "data_lite['NewExist'].unique()\n",
    "\n",
    "#relever les lignes avec la valeur 0 de ma colonne\n",
    "rows_with_zero = data_lite.loc[data_lite['NewExist']==0]\n",
    "rows_with_zero\n",
    "\n",
    "#remplacer les 0 par des Nan\n",
    "data_lite['NewExist'] = data_lite['NewExist'].replace(0, np.nan)\n",
    "data_lite['NewExist'].unique()"
   ]
  },
  {
   "cell_type": "code",
   "execution_count": 13,
   "metadata": {},
   "outputs": [
    {
     "data": {
      "text/plain": [
       "array([    1,     0, 15100, ...,  2899, 18701, 15930])"
      ]
     },
     "execution_count": 13,
     "metadata": {},
     "output_type": "execute_result"
    }
   ],
   "source": [
    "#verifier les valeurs uniques contenues par franchise code\n",
    "data_lite['FranchiseCode'].unique()"
   ]
  },
  {
   "cell_type": "code",
   "execution_count": 14,
   "metadata": {},
   "outputs": [
    {
     "data": {
      "text/plain": [
       "array([nan,  1.,  2.])"
      ]
     },
     "execution_count": 14,
     "metadata": {},
     "output_type": "execute_result"
    }
   ],
   "source": [
    "data_lite['UrbanRural'].unique() #remplace 0 par NaN\n",
    "dfur= data_lite.groupby(['UrbanRural'])['UrbanRural'].count()\n",
    "dfur #plus de 320000 lignes ont une valeur urbanrural absente\n",
    "\n",
    "#remplacer les 0 par des Nan\n",
    "data_lite['UrbanRural'] = data_lite['UrbanRural'].replace(0, np.nan)\n",
    "data_lite['UrbanRural'].unique()"
   ]
  },
  {
   "cell_type": "code",
   "execution_count": 15,
   "metadata": {},
   "outputs": [
    {
     "data": {
      "text/plain": [
       "array(['Y', 'N', nan], dtype=object)"
      ]
     },
     "execution_count": 15,
     "metadata": {},
     "output_type": "execute_result"
    }
   ],
   "source": [
    "#on fait de même ici\n",
    "data_lite['LowDoc'].unique() #renvoie: ['Y', 'N', 'C', '1', nan, 'S', 'R', 'A', '0']\n",
    "valeurs_odd = ['C', '1','S', 'R', 'A', '0']\n",
    "\n",
    "data_lite['LowDoc'] = data_lite['LowDoc'].replace(valeurs_odd, np.nan)\n",
    "data_lite['LowDoc'].unique()"
   ]
  },
  {
   "cell_type": "code",
   "execution_count": 16,
   "metadata": {},
   "outputs": [
    {
     "data": {
      "text/plain": [
       "LoanNr_ChkDgt          int64\n",
       "Name                  object\n",
       "City                  object\n",
       "State                 object\n",
       "Zip                    int64\n",
       "Bank                  object\n",
       "BankState             object\n",
       "NAICS                  int64\n",
       "ApprovalDate          object\n",
       "ApprovalFY            object\n",
       "Term                   int64\n",
       "NoEmp                  int64\n",
       "NewExist             float64\n",
       "CreateJob              int64\n",
       "RetainedJob            int64\n",
       "FranchiseCode          int64\n",
       "UrbanRural           float64\n",
       "RevLineCr             object\n",
       "LowDoc                object\n",
       "ChgOffDate            object\n",
       "DisbursementDate      object\n",
       "DisbursementGross     object\n",
       "BalanceGross          object\n",
       "MIS_Status             int64\n",
       "ChgOffPrinGr          object\n",
       "GrAppv                object\n",
       "SBA_Appv              object\n",
       "dtype: object"
      ]
     },
     "execution_count": 16,
     "metadata": {},
     "output_type": "execute_result"
    }
   ],
   "source": [
    "data_lite.dtypes"
   ]
  },
  {
   "cell_type": "code",
   "execution_count": 17,
   "metadata": {},
   "outputs": [
    {
     "name": "stderr",
     "output_type": "stream",
     "text": [
      "/tmp/ipykernel_40092/1639391177.py:3: FutureWarning: The default value of regex will change from True to False in a future version. In addition, single character regular expressions will *not* be treated as literal strings when regex=True.\n",
      "  data_lite[\"GrAppv\"] = data_lite[\"GrAppv\"].str.replace(\"$\", \"\").str.replace(\",\", \"\").str.strip()\n"
     ]
    },
    {
     "data": {
      "text/plain": [
       "LoanNr_ChkDgt          int64\n",
       "Name                  object\n",
       "City                  object\n",
       "State                 object\n",
       "Zip                    int64\n",
       "Bank                  object\n",
       "BankState             object\n",
       "NAICS                  int64\n",
       "ApprovalDate          object\n",
       "ApprovalFY            object\n",
       "Term                   int64\n",
       "NoEmp                  int64\n",
       "NewExist             float64\n",
       "CreateJob              int64\n",
       "RetainedJob            int64\n",
       "FranchiseCode          int64\n",
       "UrbanRural           float64\n",
       "RevLineCr             object\n",
       "LowDoc                object\n",
       "ChgOffDate            object\n",
       "DisbursementDate      object\n",
       "DisbursementGross     object\n",
       "BalanceGross          object\n",
       "MIS_Status             int64\n",
       "ChgOffPrinGr          object\n",
       "GrAppv               float64\n",
       "SBA_Appv              object\n",
       "dtype: object"
      ]
     },
     "execution_count": 17,
     "metadata": {},
     "output_type": "execute_result"
    }
   ],
   "source": [
    "#enlever le symbole $ de grappv et transforme grappv en float\n",
    "\n",
    "data_lite[\"GrAppv\"] = data_lite[\"GrAppv\"].str.replace(\"$\", \"\").str.replace(\",\", \"\").str.strip()\n",
    "data_lite[\"GrAppv\"] = data_lite[\"GrAppv\"].astype(float)\n",
    "data_lite.head(2)\n",
    "data_lite.dtypes"
   ]
  },
  {
   "cell_type": "code",
   "execution_count": 18,
   "metadata": {},
   "outputs": [
    {
     "data": {
      "text/plain": [
       "array([0, 1])"
      ]
     },
     "execution_count": 18,
     "metadata": {},
     "output_type": "execute_result"
    }
   ],
   "source": [
    "#la franchise code assigne un code lorsque l'entreprise est une franchise, ou 1 ou 0 lorsque ce n'est pas une franchise\n",
    "# on peut remplacer les valeurs par '0': pas de franchise et '1': franchise en 2 étapes\n",
    "\n",
    "data_lite.loc[data_lite['FranchiseCode']  <=1, 'FranchiseCode'] = 0\n",
    "\n",
    "data_lite.loc[data_lite['FranchiseCode'] > 0, 'FranchiseCode'] = 1\n",
    "\n",
    "data_lite['FranchiseCode'].unique()"
   ]
  },
  {
   "cell_type": "code",
   "execution_count": 19,
   "metadata": {},
   "outputs": [
    {
     "name": "stderr",
     "output_type": "stream",
     "text": [
      "/tmp/ipykernel_40092/3164089435.py:3: FutureWarning: The default value of regex will change from True to False in a future version. In addition, single character regular expressions will *not* be treated as literal strings when regex=True.\n",
      "  data_lite['SBA_Appv'] = data_lite['SBA_Appv'].str.replace('$', '').str.replace(',', '')\n"
     ]
    },
    {
     "data": {
      "text/html": [
       "<div>\n",
       "<style scoped>\n",
       "    .dataframe tbody tr th:only-of-type {\n",
       "        vertical-align: middle;\n",
       "    }\n",
       "\n",
       "    .dataframe tbody tr th {\n",
       "        vertical-align: top;\n",
       "    }\n",
       "\n",
       "    .dataframe thead th {\n",
       "        text-align: right;\n",
       "    }\n",
       "</style>\n",
       "<table border=\"1\" class=\"dataframe\">\n",
       "  <thead>\n",
       "    <tr style=\"text-align: right;\">\n",
       "      <th></th>\n",
       "      <th>LoanNr_ChkDgt</th>\n",
       "      <th>Name</th>\n",
       "      <th>City</th>\n",
       "      <th>State</th>\n",
       "      <th>Zip</th>\n",
       "      <th>Bank</th>\n",
       "      <th>BankState</th>\n",
       "      <th>NAICS</th>\n",
       "      <th>ApprovalDate</th>\n",
       "      <th>ApprovalFY</th>\n",
       "      <th>...</th>\n",
       "      <th>RevLineCr</th>\n",
       "      <th>LowDoc</th>\n",
       "      <th>ChgOffDate</th>\n",
       "      <th>DisbursementDate</th>\n",
       "      <th>DisbursementGross</th>\n",
       "      <th>BalanceGross</th>\n",
       "      <th>MIS_Status</th>\n",
       "      <th>ChgOffPrinGr</th>\n",
       "      <th>GrAppv</th>\n",
       "      <th>SBA_Appv</th>\n",
       "    </tr>\n",
       "  </thead>\n",
       "  <tbody>\n",
       "    <tr>\n",
       "      <th>0</th>\n",
       "      <td>1000014003</td>\n",
       "      <td>ABC HOBBYCRAFT</td>\n",
       "      <td>EVANSVILLE</td>\n",
       "      <td>IN</td>\n",
       "      <td>47711</td>\n",
       "      <td>FIFTH THIRD BANK</td>\n",
       "      <td>OH</td>\n",
       "      <td>451120</td>\n",
       "      <td>28/02/1997</td>\n",
       "      <td>NaN</td>\n",
       "      <td>...</td>\n",
       "      <td>N</td>\n",
       "      <td>Y</td>\n",
       "      <td>NaN</td>\n",
       "      <td>28-Feb-99</td>\n",
       "      <td>$60,000.00</td>\n",
       "      <td>$0.00</td>\n",
       "      <td>0</td>\n",
       "      <td>$0.00</td>\n",
       "      <td>60000.0</td>\n",
       "      <td>48000.0</td>\n",
       "    </tr>\n",
       "    <tr>\n",
       "      <th>1</th>\n",
       "      <td>1000024006</td>\n",
       "      <td>LANDMARK BAR &amp; GRILLE (THE)</td>\n",
       "      <td>NEW PARIS</td>\n",
       "      <td>IN</td>\n",
       "      <td>46526</td>\n",
       "      <td>1ST SOURCE BANK</td>\n",
       "      <td>IN</td>\n",
       "      <td>722410</td>\n",
       "      <td>28/02/1997</td>\n",
       "      <td>NaN</td>\n",
       "      <td>...</td>\n",
       "      <td>N</td>\n",
       "      <td>Y</td>\n",
       "      <td>NaN</td>\n",
       "      <td>31-May-97</td>\n",
       "      <td>$40,000.00</td>\n",
       "      <td>$0.00</td>\n",
       "      <td>0</td>\n",
       "      <td>$0.00</td>\n",
       "      <td>40000.0</td>\n",
       "      <td>32000.0</td>\n",
       "    </tr>\n",
       "    <tr>\n",
       "      <th>2</th>\n",
       "      <td>1000034009</td>\n",
       "      <td>WHITLOCK DDS, TODD M.</td>\n",
       "      <td>BLOOMINGTON</td>\n",
       "      <td>IN</td>\n",
       "      <td>47401</td>\n",
       "      <td>GRANT COUNTY STATE BANK</td>\n",
       "      <td>IN</td>\n",
       "      <td>621210</td>\n",
       "      <td>28/02/1997</td>\n",
       "      <td>NaN</td>\n",
       "      <td>...</td>\n",
       "      <td>N</td>\n",
       "      <td>N</td>\n",
       "      <td>NaN</td>\n",
       "      <td>31-Dec-97</td>\n",
       "      <td>$287,000.00</td>\n",
       "      <td>$0.00</td>\n",
       "      <td>0</td>\n",
       "      <td>$0.00</td>\n",
       "      <td>287000.0</td>\n",
       "      <td>215250.0</td>\n",
       "    </tr>\n",
       "    <tr>\n",
       "      <th>3</th>\n",
       "      <td>1000044001</td>\n",
       "      <td>BIG BUCKS PAWN &amp; JEWELRY, LLC</td>\n",
       "      <td>BROKEN ARROW</td>\n",
       "      <td>OK</td>\n",
       "      <td>74012</td>\n",
       "      <td>1ST NATL BK &amp; TR CO OF BROKEN</td>\n",
       "      <td>OK</td>\n",
       "      <td>0</td>\n",
       "      <td>28/02/1997</td>\n",
       "      <td>NaN</td>\n",
       "      <td>...</td>\n",
       "      <td>N</td>\n",
       "      <td>Y</td>\n",
       "      <td>NaN</td>\n",
       "      <td>30-Jun-97</td>\n",
       "      <td>$35,000.00</td>\n",
       "      <td>$0.00</td>\n",
       "      <td>0</td>\n",
       "      <td>$0.00</td>\n",
       "      <td>35000.0</td>\n",
       "      <td>28000.0</td>\n",
       "    </tr>\n",
       "    <tr>\n",
       "      <th>4</th>\n",
       "      <td>1000054004</td>\n",
       "      <td>ANASTASIA CONFECTIONS, INC.</td>\n",
       "      <td>ORLANDO</td>\n",
       "      <td>FL</td>\n",
       "      <td>32801</td>\n",
       "      <td>FLORIDA BUS. DEVEL CORP</td>\n",
       "      <td>FL</td>\n",
       "      <td>0</td>\n",
       "      <td>28/02/1997</td>\n",
       "      <td>NaN</td>\n",
       "      <td>...</td>\n",
       "      <td>N</td>\n",
       "      <td>N</td>\n",
       "      <td>NaN</td>\n",
       "      <td>14-May-97</td>\n",
       "      <td>$229,000.00</td>\n",
       "      <td>$0.00</td>\n",
       "      <td>0</td>\n",
       "      <td>$0.00</td>\n",
       "      <td>229000.0</td>\n",
       "      <td>229000.0</td>\n",
       "    </tr>\n",
       "    <tr>\n",
       "      <th>...</th>\n",
       "      <td>...</td>\n",
       "      <td>...</td>\n",
       "      <td>...</td>\n",
       "      <td>...</td>\n",
       "      <td>...</td>\n",
       "      <td>...</td>\n",
       "      <td>...</td>\n",
       "      <td>...</td>\n",
       "      <td>...</td>\n",
       "      <td>...</td>\n",
       "      <td>...</td>\n",
       "      <td>...</td>\n",
       "      <td>...</td>\n",
       "      <td>...</td>\n",
       "      <td>...</td>\n",
       "      <td>...</td>\n",
       "      <td>...</td>\n",
       "      <td>...</td>\n",
       "      <td>...</td>\n",
       "      <td>...</td>\n",
       "      <td>...</td>\n",
       "    </tr>\n",
       "    <tr>\n",
       "      <th>899159</th>\n",
       "      <td>9995573004</td>\n",
       "      <td>FABRIC FARMS</td>\n",
       "      <td>UPPER ARLINGTON</td>\n",
       "      <td>OH</td>\n",
       "      <td>43221</td>\n",
       "      <td>JPMORGAN CHASE BANK NATL ASSOC</td>\n",
       "      <td>IL</td>\n",
       "      <td>451120</td>\n",
       "      <td>27/02/1997</td>\n",
       "      <td>NaN</td>\n",
       "      <td>...</td>\n",
       "      <td>NaN</td>\n",
       "      <td>N</td>\n",
       "      <td>NaN</td>\n",
       "      <td>30-Sep-97</td>\n",
       "      <td>$70,000.00</td>\n",
       "      <td>$0.00</td>\n",
       "      <td>0</td>\n",
       "      <td>$0.00</td>\n",
       "      <td>70000.0</td>\n",
       "      <td>56000.0</td>\n",
       "    </tr>\n",
       "    <tr>\n",
       "      <th>899160</th>\n",
       "      <td>9995603000</td>\n",
       "      <td>FABRIC FARMS</td>\n",
       "      <td>COLUMBUS</td>\n",
       "      <td>OH</td>\n",
       "      <td>43221</td>\n",
       "      <td>JPMORGAN CHASE BANK NATL ASSOC</td>\n",
       "      <td>IL</td>\n",
       "      <td>451130</td>\n",
       "      <td>27/02/1997</td>\n",
       "      <td>NaN</td>\n",
       "      <td>...</td>\n",
       "      <td>Y</td>\n",
       "      <td>N</td>\n",
       "      <td>NaN</td>\n",
       "      <td>31-Oct-97</td>\n",
       "      <td>$85,000.00</td>\n",
       "      <td>$0.00</td>\n",
       "      <td>0</td>\n",
       "      <td>$0.00</td>\n",
       "      <td>85000.0</td>\n",
       "      <td>42500.0</td>\n",
       "    </tr>\n",
       "    <tr>\n",
       "      <th>899161</th>\n",
       "      <td>9995613003</td>\n",
       "      <td>RADCO MANUFACTURING CO.,INC.</td>\n",
       "      <td>SANTA MARIA</td>\n",
       "      <td>CA</td>\n",
       "      <td>93455</td>\n",
       "      <td>RABOBANK, NATIONAL ASSOCIATION</td>\n",
       "      <td>CA</td>\n",
       "      <td>332321</td>\n",
       "      <td>27/02/1997</td>\n",
       "      <td>NaN</td>\n",
       "      <td>...</td>\n",
       "      <td>N</td>\n",
       "      <td>N</td>\n",
       "      <td>NaN</td>\n",
       "      <td>30-Sep-97</td>\n",
       "      <td>$300,000.00</td>\n",
       "      <td>$0.00</td>\n",
       "      <td>0</td>\n",
       "      <td>$0.00</td>\n",
       "      <td>300000.0</td>\n",
       "      <td>225000.0</td>\n",
       "    </tr>\n",
       "    <tr>\n",
       "      <th>899162</th>\n",
       "      <td>9995973006</td>\n",
       "      <td>MARUTAMA HAWAII, INC.</td>\n",
       "      <td>HONOLULU</td>\n",
       "      <td>HI</td>\n",
       "      <td>96830</td>\n",
       "      <td>BANK OF HAWAII</td>\n",
       "      <td>HI</td>\n",
       "      <td>0</td>\n",
       "      <td>27/02/1997</td>\n",
       "      <td>NaN</td>\n",
       "      <td>...</td>\n",
       "      <td>N</td>\n",
       "      <td>Y</td>\n",
       "      <td>8-Mar-00</td>\n",
       "      <td>31-Mar-97</td>\n",
       "      <td>$75,000.00</td>\n",
       "      <td>$0.00</td>\n",
       "      <td>1</td>\n",
       "      <td>$46,383.00</td>\n",
       "      <td>75000.0</td>\n",
       "      <td>60000.0</td>\n",
       "    </tr>\n",
       "    <tr>\n",
       "      <th>899163</th>\n",
       "      <td>9996003010</td>\n",
       "      <td>PACIFIC TRADEWINDS FAN &amp; LIGHT</td>\n",
       "      <td>KAILUA</td>\n",
       "      <td>HI</td>\n",
       "      <td>96734</td>\n",
       "      <td>CENTRAL PACIFIC BANK</td>\n",
       "      <td>HI</td>\n",
       "      <td>0</td>\n",
       "      <td>27/02/1997</td>\n",
       "      <td>NaN</td>\n",
       "      <td>...</td>\n",
       "      <td>N</td>\n",
       "      <td>N</td>\n",
       "      <td>NaN</td>\n",
       "      <td>31-May-97</td>\n",
       "      <td>$30,000.00</td>\n",
       "      <td>$0.00</td>\n",
       "      <td>0</td>\n",
       "      <td>$0.00</td>\n",
       "      <td>30000.0</td>\n",
       "      <td>24000.0</td>\n",
       "    </tr>\n",
       "  </tbody>\n",
       "</table>\n",
       "<p>897167 rows × 27 columns</p>\n",
       "</div>"
      ],
      "text/plain": [
       "        LoanNr_ChkDgt                            Name             City State  \\\n",
       "0          1000014003                  ABC HOBBYCRAFT       EVANSVILLE    IN   \n",
       "1          1000024006     LANDMARK BAR & GRILLE (THE)        NEW PARIS    IN   \n",
       "2          1000034009           WHITLOCK DDS, TODD M.      BLOOMINGTON    IN   \n",
       "3          1000044001   BIG BUCKS PAWN & JEWELRY, LLC     BROKEN ARROW    OK   \n",
       "4          1000054004     ANASTASIA CONFECTIONS, INC.          ORLANDO    FL   \n",
       "...               ...                             ...              ...   ...   \n",
       "899159     9995573004                    FABRIC FARMS  UPPER ARLINGTON    OH   \n",
       "899160     9995603000                    FABRIC FARMS         COLUMBUS    OH   \n",
       "899161     9995613003    RADCO MANUFACTURING CO.,INC.      SANTA MARIA    CA   \n",
       "899162     9995973006           MARUTAMA HAWAII, INC.         HONOLULU    HI   \n",
       "899163     9996003010  PACIFIC TRADEWINDS FAN & LIGHT           KAILUA    HI   \n",
       "\n",
       "          Zip                            Bank BankState   NAICS ApprovalDate  \\\n",
       "0       47711                FIFTH THIRD BANK        OH  451120   28/02/1997   \n",
       "1       46526                 1ST SOURCE BANK        IN  722410   28/02/1997   \n",
       "2       47401         GRANT COUNTY STATE BANK        IN  621210   28/02/1997   \n",
       "3       74012   1ST NATL BK & TR CO OF BROKEN        OK       0   28/02/1997   \n",
       "4       32801         FLORIDA BUS. DEVEL CORP        FL       0   28/02/1997   \n",
       "...       ...                             ...       ...     ...          ...   \n",
       "899159  43221  JPMORGAN CHASE BANK NATL ASSOC        IL  451120   27/02/1997   \n",
       "899160  43221  JPMORGAN CHASE BANK NATL ASSOC        IL  451130   27/02/1997   \n",
       "899161  93455  RABOBANK, NATIONAL ASSOCIATION        CA  332321   27/02/1997   \n",
       "899162  96830                  BANK OF HAWAII        HI       0   27/02/1997   \n",
       "899163  96734            CENTRAL PACIFIC BANK        HI       0   27/02/1997   \n",
       "\n",
       "       ApprovalFY  ...  RevLineCr  LowDoc  ChgOffDate  DisbursementDate  \\\n",
       "0             NaN  ...          N       Y         NaN         28-Feb-99   \n",
       "1             NaN  ...          N       Y         NaN         31-May-97   \n",
       "2             NaN  ...          N       N         NaN         31-Dec-97   \n",
       "3             NaN  ...          N       Y         NaN         30-Jun-97   \n",
       "4             NaN  ...          N       N         NaN         14-May-97   \n",
       "...           ...  ...        ...     ...         ...               ...   \n",
       "899159        NaN  ...        NaN       N         NaN         30-Sep-97   \n",
       "899160        NaN  ...          Y       N         NaN         31-Oct-97   \n",
       "899161        NaN  ...          N       N         NaN         30-Sep-97   \n",
       "899162        NaN  ...          N       Y    8-Mar-00         31-Mar-97   \n",
       "899163        NaN  ...          N       N         NaN         31-May-97   \n",
       "\n",
       "        DisbursementGross  BalanceGross  MIS_Status ChgOffPrinGr    GrAppv  \\\n",
       "0             $60,000.00         $0.00            0       $0.00    60000.0   \n",
       "1             $40,000.00         $0.00            0       $0.00    40000.0   \n",
       "2            $287,000.00         $0.00            0       $0.00   287000.0   \n",
       "3             $35,000.00         $0.00            0       $0.00    35000.0   \n",
       "4            $229,000.00         $0.00            0       $0.00   229000.0   \n",
       "...                   ...           ...         ...          ...       ...   \n",
       "899159        $70,000.00         $0.00            0       $0.00    70000.0   \n",
       "899160        $85,000.00         $0.00            0       $0.00    85000.0   \n",
       "899161       $300,000.00         $0.00            0       $0.00   300000.0   \n",
       "899162        $75,000.00         $0.00            1  $46,383.00    75000.0   \n",
       "899163        $30,000.00         $0.00            0       $0.00    30000.0   \n",
       "\n",
       "        SBA_Appv  \n",
       "0        48000.0  \n",
       "1        32000.0  \n",
       "2       215250.0  \n",
       "3        28000.0  \n",
       "4       229000.0  \n",
       "...          ...  \n",
       "899159   56000.0  \n",
       "899160   42500.0  \n",
       "899161  225000.0  \n",
       "899162   60000.0  \n",
       "899163   24000.0  \n",
       "\n",
       "[897167 rows x 27 columns]"
      ]
     },
     "execution_count": 19,
     "metadata": {},
     "output_type": "execute_result"
    }
   ],
   "source": [
    "#supprimer les ',' dans la colonne SBA_Appv\n",
    "data_lite['SBA_Appv'] = data_lite['SBA_Appv'].str.strip()\n",
    "data_lite['SBA_Appv'] = data_lite['SBA_Appv'].str.replace('$', '').str.replace(',', '')\n",
    "data_lite['SBA_Appv'] = data_lite['SBA_Appv'].astype(float)\n",
    "\n",
    "data_lite"
   ]
  },
  {
   "cell_type": "code",
   "execution_count": 20,
   "metadata": {},
   "outputs": [
    {
     "name": "stderr",
     "output_type": "stream",
     "text": [
      "/tmp/ipykernel_40092/3863240459.py:2: FutureWarning: The default value of regex will change from True to False in a future version. In addition, single character regular expressions will *not* be treated as literal strings when regex=True.\n",
      "  data_lite['ChgOffPrinGr'] = data_lite['ChgOffPrinGr'].str.replace('$', '').str.replace(',', '').astype(float)\n",
      "/tmp/ipykernel_40092/3863240459.py:4: FutureWarning: The default value of regex will change from True to False in a future version. In addition, single character regular expressions will *not* be treated as literal strings when regex=True.\n",
      "  data_lite['DisbursementGross'] = data_lite['DisbursementGross'].str.replace('$', '').str.replace(',', '').astype(float)\n",
      "/tmp/ipykernel_40092/3863240459.py:6: FutureWarning: The default value of regex will change from True to False in a future version. In addition, single character regular expressions will *not* be treated as literal strings when regex=True.\n",
      "  data_lite['BalanceGross'] = data_lite['BalanceGross'].str.replace('$', '').str.replace(',', '').astype(float)\n"
     ]
    },
    {
     "data": {
      "text/plain": [
       "ChgOffPrinGr         float64\n",
       "DisbursementGross    float64\n",
       "BalanceGross         float64\n",
       "GrAppv               float64\n",
       "dtype: object"
      ]
     },
     "execution_count": 20,
     "metadata": {},
     "output_type": "execute_result"
    }
   ],
   "source": [
    "# convertir 'ChgOffPrinGr', 'DisbursementGross' et 'BalanceGross', 'GrAppv' en float ou int\n",
    "data_lite['ChgOffPrinGr'] = data_lite['ChgOffPrinGr'].str.replace('$', '').str.replace(',', '').astype(float)\n",
    "\n",
    "data_lite['DisbursementGross'] = data_lite['DisbursementGross'].str.replace('$', '').str.replace(',', '').astype(float)\n",
    "\n",
    "data_lite['BalanceGross'] = data_lite['BalanceGross'].str.replace('$', '').str.replace(',', '').astype(float)\n",
    "\n",
    "data_lite[['ChgOffPrinGr', 'DisbursementGross', 'BalanceGross', 'GrAppv']].dtypes"
   ]
  },
  {
   "cell_type": "markdown",
   "metadata": {},
   "source": [
    "#### Verifier qu'il n'y a pas de lignes avec un comportement étrange en particulier MIS_Status 'PIF' associé à 'BalanceGross' non nul."
   ]
  },
  {
   "cell_type": "code",
   "execution_count": 21,
   "metadata": {},
   "outputs": [
    {
     "name": "stdout",
     "output_type": "stream",
     "text": [
      "0\n",
      "0\n"
     ]
    }
   ],
   "source": [
    "# on construit un df avec MIS_Status et 'ChgOffPrinGr' \n",
    "df_mc = data_lite[['MIS_Status', 'BalanceGross', 'DisbursementGross', 'SBA_Appv', 'GrAppv']]\n",
    "df_mc\n",
    "\n",
    "# on vérifie si il existe des lignes où MIS_Status est égal à 'P I F' et BalanceGross est supérieur à zéro\n",
    "odd_rows = df_mc.loc[(df_mc['MIS_Status'] == 'P I F') & (df_mc['BalanceGross'] > 0)]\n",
    "\n",
    "print(len(odd_rows))\n",
    "\n",
    "#il il y a 14 lignes au total, on les supprime\n",
    "odd_rows_indices = df_mc[(df_mc['MIS_Status'] == 'P I F') & (df_mc['BalanceGross'] > 0)].index\n",
    "\n",
    "data_lite = data_lite.drop(index=odd_rows_indices)\n",
    "\n",
    "# on vérifie que les lignes ont été supprimées\n",
    "odd_rows_ = data_lite.loc[(data_lite['MIS_Status'] == 'P I F') & (data_lite['BalanceGross'] > 0)]\n",
    "\n",
    "print(len(odd_rows_))"
   ]
  },
  {
   "cell_type": "code",
   "execution_count": 22,
   "metadata": {},
   "outputs": [
    {
     "name": "stdout",
     "output_type": "stream",
     "text": [
      "Nombre de lignes : 897167\n",
      "Nombre de colonnes : 27\n"
     ]
    }
   ],
   "source": [
    "# Utilisez l'attribut shape pour obtenir le nombre de lignes et de colonnes de votre dataframe\n",
    "nombre_lignes, nombre_colonnes = data_lite.shape\n",
    "\n",
    "print(\"Nombre de lignes :\", nombre_lignes)\n",
    "print(\"Nombre de colonnes :\", nombre_colonnes)\n"
   ]
  },
  {
   "cell_type": "markdown",
   "metadata": {},
   "source": [
    "#### Enregistre le dataframe data_lite pour le réutiliser dans le notebook modelisation\n"
   ]
  },
  {
   "cell_type": "code",
   "execution_count": 23,
   "metadata": {},
   "outputs": [],
   "source": [
    "data_lite.to_csv('data.csv', index=False)\n",
    "\n"
   ]
  }
 ],
 "metadata": {
  "kernelspec": {
   "display_name": "base",
   "language": "python",
   "name": "python3"
  },
  "language_info": {
   "codemirror_mode": {
    "name": "ipython",
    "version": 3
   },
   "file_extension": ".py",
   "mimetype": "text/x-python",
   "name": "python",
   "nbconvert_exporter": "python",
   "pygments_lexer": "ipython3",
   "version": "3.9.12"
  }
 },
 "nbformat": 4,
 "nbformat_minor": 2
}
