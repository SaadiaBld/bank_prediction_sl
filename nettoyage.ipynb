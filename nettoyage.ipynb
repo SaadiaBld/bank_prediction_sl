{
 "cells": [
  {
   "cell_type": "code",
   "execution_count": 1,
   "metadata": {},
   "outputs": [
    {
     "name": "stderr",
     "output_type": "stream",
     "text": [
      "/home/utilisateur/anaconda3/lib/python3.9/site-packages/pandas/core/computation/expressions.py:21: UserWarning: Pandas requires version '2.8.4' or newer of 'numexpr' (version '2.8.1' currently installed).\n",
      "  from pandas.core.computation.check import NUMEXPR_INSTALLED\n",
      "/home/utilisateur/anaconda3/lib/python3.9/site-packages/pandas/core/arrays/masked.py:60: UserWarning: Pandas requires version '1.3.6' or newer of 'bottleneck' (version '1.3.4' currently installed).\n",
      "  from pandas.core import (\n",
      "/tmp/ipykernel_5589/2201431319.py:1: DeprecationWarning: \n",
      "Pyarrow will become a required dependency of pandas in the next major release of pandas (pandas 3.0),\n",
      "(to allow more performant data types, such as the Arrow string type, and better interoperability with other libraries)\n",
      "but was not found to be installed on your system.\n",
      "If this would cause problems for you,\n",
      "please provide us feedback at https://github.com/pandas-dev/pandas/issues/54466\n",
      "        \n",
      "  import pandas as pd\n"
     ]
    }
   ],
   "source": [
    "import pandas as pd\n",
    "import matplotlib.pyplot as plt  \n",
    "import numpy as np \n",
    "import seaborn as sns "
   ]
  },
  {
   "cell_type": "code",
   "execution_count": 84,
   "metadata": {},
   "outputs": [
    {
     "name": "stderr",
     "output_type": "stream",
     "text": [
      "/tmp/ipykernel_5589/1533426435.py:1: DtypeWarning: Columns (9) have mixed types. Specify dtype option on import or set low_memory=False.\n",
      "  data = pd.read_csv('SBAnational.csv')\n"
     ]
    }
   ],
   "source": [
    "data = pd.read_csv('SBAnational.csv')"
   ]
  },
  {
   "cell_type": "markdown",
   "metadata": {},
   "source": [
    "##### On crée un nouveau dataframe où les colonnes qui sont inutiles pour les prédictions sont supprimées ainsi que les variables suspectées de faire du dataleaking."
   ]
  },
  {
   "cell_type": "code",
   "execution_count": 85,
   "metadata": {},
   "outputs": [
    {
     "data": {
      "text/html": [
       "<div>\n",
       "<style scoped>\n",
       "    .dataframe tbody tr th:only-of-type {\n",
       "        vertical-align: middle;\n",
       "    }\n",
       "\n",
       "    .dataframe tbody tr th {\n",
       "        vertical-align: top;\n",
       "    }\n",
       "\n",
       "    .dataframe thead th {\n",
       "        text-align: right;\n",
       "    }\n",
       "</style>\n",
       "<table border=\"1\" class=\"dataframe\">\n",
       "  <thead>\n",
       "    <tr style=\"text-align: right;\">\n",
       "      <th></th>\n",
       "      <th>NAICS</th>\n",
       "      <th>ApprovalDate</th>\n",
       "      <th>ApprovalFY</th>\n",
       "      <th>Term</th>\n",
       "      <th>NewExist</th>\n",
       "      <th>FranchiseCode</th>\n",
       "      <th>UrbanRural</th>\n",
       "      <th>RevLineCr</th>\n",
       "      <th>LowDoc</th>\n",
       "      <th>MIS_Status</th>\n",
       "    </tr>\n",
       "  </thead>\n",
       "  <tbody>\n",
       "    <tr>\n",
       "      <th>0</th>\n",
       "      <td>451120</td>\n",
       "      <td>28-Feb-97</td>\n",
       "      <td>1997</td>\n",
       "      <td>84</td>\n",
       "      <td>2.0</td>\n",
       "      <td>1</td>\n",
       "      <td>0</td>\n",
       "      <td>N</td>\n",
       "      <td>Y</td>\n",
       "      <td>P I F</td>\n",
       "    </tr>\n",
       "    <tr>\n",
       "      <th>1</th>\n",
       "      <td>722410</td>\n",
       "      <td>28-Feb-97</td>\n",
       "      <td>1997</td>\n",
       "      <td>60</td>\n",
       "      <td>2.0</td>\n",
       "      <td>1</td>\n",
       "      <td>0</td>\n",
       "      <td>N</td>\n",
       "      <td>Y</td>\n",
       "      <td>P I F</td>\n",
       "    </tr>\n",
       "    <tr>\n",
       "      <th>2</th>\n",
       "      <td>621210</td>\n",
       "      <td>28-Feb-97</td>\n",
       "      <td>1997</td>\n",
       "      <td>180</td>\n",
       "      <td>1.0</td>\n",
       "      <td>1</td>\n",
       "      <td>0</td>\n",
       "      <td>N</td>\n",
       "      <td>N</td>\n",
       "      <td>P I F</td>\n",
       "    </tr>\n",
       "    <tr>\n",
       "      <th>3</th>\n",
       "      <td>0</td>\n",
       "      <td>28-Feb-97</td>\n",
       "      <td>1997</td>\n",
       "      <td>60</td>\n",
       "      <td>1.0</td>\n",
       "      <td>1</td>\n",
       "      <td>0</td>\n",
       "      <td>N</td>\n",
       "      <td>Y</td>\n",
       "      <td>P I F</td>\n",
       "    </tr>\n",
       "    <tr>\n",
       "      <th>4</th>\n",
       "      <td>0</td>\n",
       "      <td>28-Feb-97</td>\n",
       "      <td>1997</td>\n",
       "      <td>240</td>\n",
       "      <td>1.0</td>\n",
       "      <td>1</td>\n",
       "      <td>0</td>\n",
       "      <td>N</td>\n",
       "      <td>N</td>\n",
       "      <td>P I F</td>\n",
       "    </tr>\n",
       "  </tbody>\n",
       "</table>\n",
       "</div>"
      ],
      "text/plain": [
       "    NAICS ApprovalDate ApprovalFY  Term  NewExist  FranchiseCode  UrbanRural  \\\n",
       "0  451120    28-Feb-97       1997    84       2.0              1           0   \n",
       "1  722410    28-Feb-97       1997    60       2.0              1           0   \n",
       "2  621210    28-Feb-97       1997   180       1.0              1           0   \n",
       "3       0    28-Feb-97       1997    60       1.0              1           0   \n",
       "4       0    28-Feb-97       1997   240       1.0              1           0   \n",
       "\n",
       "  RevLineCr LowDoc MIS_Status  \n",
       "0         N      Y      P I F  \n",
       "1         N      Y      P I F  \n",
       "2         N      N      P I F  \n",
       "3         N      Y      P I F  \n",
       "4         N      N      P I F  "
      ]
     },
     "execution_count": 85,
     "metadata": {},
     "output_type": "execute_result"
    }
   ],
   "source": [
    "data_lite = data.drop(['BalanceGross', 'NoEmp', 'LoanNr_ChkDgt', 'Name', 'Zip', 'City', 'ChgOffDate', 'DisbursementDate', 'DisbursementGross', 'BankState', 'Bank', 'State', 'ChgOffPrinGr', 'GrAppv', 'SBA_Appv', 'CreateJob', 'RetainedJob'], axis=1)\n",
    "data_lite.head(5)"
   ]
  },
  {
   "cell_type": "markdown",
   "metadata": {},
   "source": [
    "#####  Vérifier les types des variables, les valeurs manquantes ou suspectes.\n",
    "On vérifie les valeurs uniques pour chaque variable du dataframe ainsi que les 'missing values'."
   ]
  },
  {
   "cell_type": "code",
   "execution_count": 86,
   "metadata": {},
   "outputs": [
    {
     "name": "stdout",
     "output_type": "stream",
     "text": [
      "NAICS               0\n",
      "ApprovalDate        0\n",
      "ApprovalFY          0\n",
      "Term                0\n",
      "NewExist          136\n",
      "FranchiseCode       0\n",
      "UrbanRural          0\n",
      "RevLineCr        4528\n",
      "LowDoc           2582\n",
      "MIS_Status       1997\n",
      "dtype: int64\n"
     ]
    },
    {
     "data": {
      "text/plain": [
       "NAICS              int64\n",
       "ApprovalDate      object\n",
       "ApprovalFY        object\n",
       "Term               int64\n",
       "NewExist         float64\n",
       "FranchiseCode      int64\n",
       "UrbanRural         int64\n",
       "RevLineCr         object\n",
       "LowDoc            object\n",
       "MIS_Status        object\n",
       "dtype: object"
      ]
     },
     "execution_count": 86,
     "metadata": {},
     "output_type": "execute_result"
    }
   ],
   "source": [
    "print(data_lite.isnull().sum())\n",
    "\n",
    "data_lite.dtypes\n"
   ]
  },
  {
   "cell_type": "markdown",
   "metadata": {},
   "source": [
    "Les variables numériques: NAICS, Term, NewExist, FranchiseCode, UrbanRural\n",
    "\n",
    "Les variables catégorielles: ApprovalDate, ApprovalFY, RevLineCr, LowDoc, MIS_Status (la target)."
   ]
  },
  {
   "cell_type": "code",
   "execution_count": 87,
   "metadata": {},
   "outputs": [
    {
     "data": {
      "text/plain": [
       "False"
      ]
     },
     "execution_count": 87,
     "metadata": {},
     "output_type": "execute_result"
    }
   ],
   "source": [
    "#pour la colonne ApprovalDate, on va réduire les modalités en ne considérant que l'année\n",
    "# d'abord transformer la date en Y-M-D\n",
    "\n",
    "data_lite['ApprovalDate'] = pd.to_datetime(data_lite['ApprovalDate'], format='%d-%b-%y', errors='coerce')\n",
    "data_lite['ApprovalDate_Year'] = data_lite['ApprovalDate'].dt.year\n",
    "data_lite = data_lite.drop('ApprovalDate', axis=1)\n",
    "\n",
    "#On verifie que les colonnes 'ApprovalDateYear' et 'ApprovalFY' sont identiques\n",
    "data_lite['ApprovalDate_Year'].equals(data_lite['ApprovalFY'])"
   ]
  },
  {
   "cell_type": "markdown",
   "metadata": {},
   "source": [
    "Vérifier les valeurs uniques des colonnes. Si les valeurs différent des modalités officielles, on les remplace par NaN."
   ]
  },
  {
   "cell_type": "code",
   "execution_count": 88,
   "metadata": {},
   "outputs": [
    {
     "data": {
      "text/plain": [
       "dtype('int64')"
      ]
     },
     "execution_count": 88,
     "metadata": {},
     "output_type": "execute_result"
    }
   ],
   "source": [
    "data_lite['MIS_Status'].unique() \n",
    "\n",
    "# on supprime les valeurs manquantes de la target\n",
    "data_lite.dropna(subset=['MIS_Status'], inplace=True)\n",
    "\n",
    "# encodage de la target\n",
    "data_lite['MIS_Status'] = data_lite['MIS_Status'].map({'P I F': 0, 'CHGOFF': 1})\n",
    "data_lite.MIS_Status.dtype\n",
    "\n"
   ]
  },
  {
   "cell_type": "code",
   "execution_count": 89,
   "metadata": {},
   "outputs": [
    {
     "data": {
      "text/plain": [
       "array(['N', nan, 'Y'], dtype=object)"
      ]
     },
     "execution_count": 89,
     "metadata": {},
     "output_type": "execute_result"
    }
   ],
   "source": [
    "data_lite['RevLineCr'].unique() # renvoie:array(['N', '0', 'Y', 'T',......, 'Q']\n",
    "\n",
    "valeurs_odd = [ 'NaN', 'nan','0', 'T','`', ',', '1', 'C', '3', '2', 'R', '7','A', '5', '.', '4', '-', 'Q']\n",
    "data_lite['RevLineCr'] = data_lite['RevLineCr'].replace(valeurs_odd, np.nan)\n",
    "data_lite['RevLineCr'].unique()"
   ]
  },
  {
   "cell_type": "code",
   "execution_count": 90,
   "metadata": {},
   "outputs": [
    {
     "data": {
      "text/plain": [
       "array([ 84,  60, 180, 240, 120,  45, 297, 162,  12, 300,  87, 114, 144,\n",
       "       126,  83, 102,  80, 137,  42,  96, 167,   7,  36,  37,  26, 264,\n",
       "        72,  24,   5,  54,  66, 161,  71,   4,  93, 288, 108,  10,  13,\n",
       "        90,  19,  16,   3,  27, 149,  41, 246,  18,  57, 104,  82, 298,\n",
       "        14,  61, 127,  58,  44,  32,  85,  48,  31, 112,  38,  73,  47,\n",
       "        11, 134,  15,  79,  53,  39,   6, 255,  55, 133,  95,  35,  59,\n",
       "        62,  68, 123,  46,  70, 138,  40,  52,  25,  65,  91,   1,  74,\n",
       "        49, 103,  77,  86,  63,  56,  22,   0,  97,  23,  17,  69,  21,\n",
       "        43,  89, 276,  92, 183,   2, 132,  34, 131,   9,  78,  99, 129,\n",
       "       216,   8,  29, 289,  30, 119, 228, 168, 208,  81, 147, 125,  94,\n",
       "        51, 211,  64, 111, 266,  75, 306,  28, 232, 117, 118, 309, 303,\n",
       "        98, 191, 116,  76, 113, 292,  88, 166, 244, 176, 258, 203, 231,\n",
       "       142,  33, 157, 165,  50, 210, 294, 301, 106,  20, 318, 229, 204,\n",
       "       269, 241, 178, 115, 174, 192,  67, 100, 141, 282, 122, 156, 153,\n",
       "       268, 249, 238, 233, 105, 263, 124, 279, 140, 186, 107, 190, 308,\n",
       "       128, 243, 302, 299, 280, 223, 311, 222, 202, 257, 130, 101, 121,\n",
       "       278, 272, 319, 283, 221, 250, 290, 199, 252, 187, 310, 304, 136,\n",
       "       261, 196, 181, 175, 195, 177, 139, 110, 242, 270, 277, 184, 150,\n",
       "       207, 358, 213, 273, 357, 248, 275, 164, 239, 206, 215, 170, 254,\n",
       "       217, 172, 158, 218, 189, 256, 179, 262, 193, 146, 155, 135, 185,\n",
       "       307, 200, 109, 265, 349, 209, 236, 251, 145, 152, 169, 245, 230,\n",
       "       285, 201, 293, 171, 227, 188, 225, 247, 163, 143, 235, 160, 148,\n",
       "       253, 159, 295, 198, 271, 234, 237, 336, 220, 291, 287, 154, 219,\n",
       "       197, 312, 284, 281, 151, 267, 274, 182, 212, 305, 205, 226, 194,\n",
       "       259, 214, 173, 224, 385, 313, 340, 461, 296, 343, 348, 286, 260,\n",
       "       334, 320, 315, 360, 421, 342, 351, 372, 314, 354, 435, 316, 480,\n",
       "       329, 387, 325, 321, 317, 352, 359, 389, 333, 330, 417, 404, 370,\n",
       "       324, 398, 419, 425, 414, 365, 345, 481, 350, 335, 369, 341, 355,\n",
       "       362, 322, 339, 375, 323, 347, 327, 505, 326, 418, 328, 363, 413,\n",
       "       361, 356, 396, 438, 382, 364, 367, 374, 442, 353, 527, 569, 338,\n",
       "       366, 386, 368, 428, 346, 388, 430, 443, 381, 409, 445, 384, 391,\n",
       "       511, 412, 449, 403, 434, 402, 423, 440, 429])"
      ]
     },
     "execution_count": 90,
     "metadata": {},
     "output_type": "execute_result"
    }
   ],
   "source": [
    "data_lite['Term'].unique() #valeurs numériques "
   ]
  },
  {
   "cell_type": "code",
   "execution_count": 91,
   "metadata": {},
   "outputs": [
    {
     "data": {
      "text/plain": [
       "array([ 2.,  1., nan])"
      ]
     },
     "execution_count": 91,
     "metadata": {},
     "output_type": "execute_result"
    }
   ],
   "source": [
    "data_lite['NewExist'].unique()\n",
    "\n",
    "#relever les lignes avec la valeur 0 de ma colonne\n",
    "rows_with_zero = data_lite.loc[data_lite['NewExist']==0]\n",
    "rows_with_zero\n",
    "\n",
    "#remplacer les 0 par des Nan\n",
    "data_lite['NewExist'] = data_lite['NewExist'].replace(0, np.nan)\n",
    "data_lite['NewExist'].unique()"
   ]
  },
  {
   "cell_type": "code",
   "execution_count": 92,
   "metadata": {},
   "outputs": [
    {
     "data": {
      "text/plain": [
       "array([    1,     0, 15100, ...,  2899, 18701, 15930])"
      ]
     },
     "execution_count": 92,
     "metadata": {},
     "output_type": "execute_result"
    }
   ],
   "source": [
    "data_lite['FranchiseCode'].unique()"
   ]
  },
  {
   "cell_type": "code",
   "execution_count": 93,
   "metadata": {},
   "outputs": [
    {
     "data": {
      "text/plain": [
       "array([nan,  1.,  2.])"
      ]
     },
     "execution_count": 93,
     "metadata": {},
     "output_type": "execute_result"
    }
   ],
   "source": [
    "data_lite['UrbanRural'].unique() #remplace 0 par NaN\n",
    "\n",
    "#remplacer les 0 par des Nan\n",
    "data_lite['UrbanRural'] = data_lite['UrbanRural'].replace(0, np.nan)\n",
    "data_lite['UrbanRural'].unique()\n"
   ]
  },
  {
   "cell_type": "code",
   "execution_count": 94,
   "metadata": {},
   "outputs": [
    {
     "data": {
      "text/plain": [
       "array(['N', nan, 'Y'], dtype=object)"
      ]
     },
     "execution_count": 94,
     "metadata": {},
     "output_type": "execute_result"
    }
   ],
   "source": [
    "data_lite['LowDoc'].unique()\n",
    "valeurs_odd = ['C', '1','S', 'R', 'A', '0']\n",
    "data_lite['LowDoc'] = data_lite['RevLineCr'].replace(valeurs_odd, np.nan)\n",
    "data_lite['LowDoc'].unique()"
   ]
  },
  {
   "cell_type": "code",
   "execution_count": 95,
   "metadata": {},
   "outputs": [
    {
     "data": {
      "text/plain": [
       "NAICS                  int64\n",
       "ApprovalFY            object\n",
       "Term                   int64\n",
       "NewExist             float64\n",
       "FranchiseCode          int64\n",
       "UrbanRural           float64\n",
       "RevLineCr             object\n",
       "LowDoc                object\n",
       "MIS_Status             int64\n",
       "ApprovalDate_Year      int32\n",
       "dtype: object"
      ]
     },
     "execution_count": 95,
     "metadata": {},
     "output_type": "execute_result"
    }
   ],
   "source": [
    "data_lite.dtypes"
   ]
  },
  {
   "cell_type": "markdown",
   "metadata": {},
   "source": [
    "#### Enregistre le dataframe data_lite pour le réutiliser dans le notebook modelisation\n"
   ]
  },
  {
   "cell_type": "code",
   "execution_count": 96,
   "metadata": {},
   "outputs": [],
   "source": [
    "data_lite.to_csv('data.csv', index=False)\n",
    "\n"
   ]
  }
 ],
 "metadata": {
  "kernelspec": {
   "display_name": "base",
   "language": "python",
   "name": "python3"
  },
  "language_info": {
   "codemirror_mode": {
    "name": "ipython",
    "version": 3
   },
   "file_extension": ".py",
   "mimetype": "text/x-python",
   "name": "python",
   "nbconvert_exporter": "python",
   "pygments_lexer": "ipython3",
   "version": "3.9.12"
  }
 },
 "nbformat": 4,
 "nbformat_minor": 2
}
