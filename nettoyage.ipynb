{
 "cells": [
  {
   "cell_type": "code",
   "execution_count": 20,
   "metadata": {},
   "outputs": [],
   "source": [
    "import pandas as pd\n",
    "import matplotlib.pyplot as plt  \n",
    "import numpy as np \n",
    "import seaborn as sns "
   ]
  },
  {
   "cell_type": "code",
   "execution_count": 21,
   "metadata": {},
   "outputs": [
    {
     "name": "stderr",
     "output_type": "stream",
     "text": [
      "/var/folders/83/skc59h713n1f5fpwznbhnkr80000gn/T/ipykernel_4891/1533426435.py:1: DtypeWarning: Columns (9) have mixed types. Specify dtype option on import or set low_memory=False.\n",
      "  data = pd.read_csv('SBAnational.csv')\n"
     ]
    }
   ],
   "source": [
    "data = pd.read_csv('SBAnational.csv')"
   ]
  },
  {
   "cell_type": "markdown",
   "metadata": {},
   "source": [
    "##### On crée un nouveau dataframe où les colonnes qui sont inutiles pour les prédictions sont supprimées ainsi que les variables suspectées de faire du dataleaking."
   ]
  },
  {
   "cell_type": "code",
   "execution_count": 22,
   "metadata": {},
   "outputs": [
    {
     "data": {
      "text/html": [
       "<div>\n",
       "<style scoped>\n",
       "    .dataframe tbody tr th:only-of-type {\n",
       "        vertical-align: middle;\n",
       "    }\n",
       "\n",
       "    .dataframe tbody tr th {\n",
       "        vertical-align: top;\n",
       "    }\n",
       "\n",
       "    .dataframe thead th {\n",
       "        text-align: right;\n",
       "    }\n",
       "</style>\n",
       "<table border=\"1\" class=\"dataframe\">\n",
       "  <thead>\n",
       "    <tr style=\"text-align: right;\">\n",
       "      <th></th>\n",
       "      <th>Zip</th>\n",
       "      <th>Bank</th>\n",
       "      <th>NAICS</th>\n",
       "      <th>Term</th>\n",
       "      <th>NewExist</th>\n",
       "      <th>CreateJob</th>\n",
       "      <th>RetainedJob</th>\n",
       "      <th>FranchiseCode</th>\n",
       "      <th>UrbanRural</th>\n",
       "      <th>RevLineCr</th>\n",
       "      <th>LowDoc</th>\n",
       "      <th>MIS_Status</th>\n",
       "      <th>SBA_Appv</th>\n",
       "    </tr>\n",
       "  </thead>\n",
       "  <tbody>\n",
       "    <tr>\n",
       "      <th>0</th>\n",
       "      <td>47711</td>\n",
       "      <td>FIFTH THIRD BANK</td>\n",
       "      <td>451120</td>\n",
       "      <td>84</td>\n",
       "      <td>2.0</td>\n",
       "      <td>0</td>\n",
       "      <td>0</td>\n",
       "      <td>1</td>\n",
       "      <td>0</td>\n",
       "      <td>N</td>\n",
       "      <td>Y</td>\n",
       "      <td>P I F</td>\n",
       "      <td>$48,000.00</td>\n",
       "    </tr>\n",
       "    <tr>\n",
       "      <th>1</th>\n",
       "      <td>46526</td>\n",
       "      <td>1ST SOURCE BANK</td>\n",
       "      <td>722410</td>\n",
       "      <td>60</td>\n",
       "      <td>2.0</td>\n",
       "      <td>0</td>\n",
       "      <td>0</td>\n",
       "      <td>1</td>\n",
       "      <td>0</td>\n",
       "      <td>N</td>\n",
       "      <td>Y</td>\n",
       "      <td>P I F</td>\n",
       "      <td>$32,000.00</td>\n",
       "    </tr>\n",
       "    <tr>\n",
       "      <th>2</th>\n",
       "      <td>47401</td>\n",
       "      <td>GRANT COUNTY STATE BANK</td>\n",
       "      <td>621210</td>\n",
       "      <td>180</td>\n",
       "      <td>1.0</td>\n",
       "      <td>0</td>\n",
       "      <td>0</td>\n",
       "      <td>1</td>\n",
       "      <td>0</td>\n",
       "      <td>N</td>\n",
       "      <td>N</td>\n",
       "      <td>P I F</td>\n",
       "      <td>$215,250.00</td>\n",
       "    </tr>\n",
       "    <tr>\n",
       "      <th>3</th>\n",
       "      <td>74012</td>\n",
       "      <td>1ST NATL BK &amp; TR CO OF BROKEN</td>\n",
       "      <td>0</td>\n",
       "      <td>60</td>\n",
       "      <td>1.0</td>\n",
       "      <td>0</td>\n",
       "      <td>0</td>\n",
       "      <td>1</td>\n",
       "      <td>0</td>\n",
       "      <td>N</td>\n",
       "      <td>Y</td>\n",
       "      <td>P I F</td>\n",
       "      <td>$28,000.00</td>\n",
       "    </tr>\n",
       "    <tr>\n",
       "      <th>4</th>\n",
       "      <td>32801</td>\n",
       "      <td>FLORIDA BUS. DEVEL CORP</td>\n",
       "      <td>0</td>\n",
       "      <td>240</td>\n",
       "      <td>1.0</td>\n",
       "      <td>7</td>\n",
       "      <td>7</td>\n",
       "      <td>1</td>\n",
       "      <td>0</td>\n",
       "      <td>N</td>\n",
       "      <td>N</td>\n",
       "      <td>P I F</td>\n",
       "      <td>$229,000.00</td>\n",
       "    </tr>\n",
       "  </tbody>\n",
       "</table>\n",
       "</div>"
      ],
      "text/plain": [
       "     Zip                           Bank   NAICS  Term  NewExist  CreateJob  \\\n",
       "0  47711               FIFTH THIRD BANK  451120    84       2.0          0   \n",
       "1  46526                1ST SOURCE BANK  722410    60       2.0          0   \n",
       "2  47401        GRANT COUNTY STATE BANK  621210   180       1.0          0   \n",
       "3  74012  1ST NATL BK & TR CO OF BROKEN       0    60       1.0          0   \n",
       "4  32801        FLORIDA BUS. DEVEL CORP       0   240       1.0          7   \n",
       "\n",
       "   RetainedJob  FranchiseCode  UrbanRural RevLineCr LowDoc MIS_Status  \\\n",
       "0            0              1           0         N      Y      P I F   \n",
       "1            0              1           0         N      Y      P I F   \n",
       "2            0              1           0         N      N      P I F   \n",
       "3            0              1           0         N      Y      P I F   \n",
       "4            7              1           0         N      N      P I F   \n",
       "\n",
       "       SBA_Appv  \n",
       "0   $48,000.00   \n",
       "1   $32,000.00   \n",
       "2  $215,250.00   \n",
       "3   $28,000.00   \n",
       "4  $229,000.00   "
      ]
     },
     "execution_count": 22,
     "metadata": {},
     "output_type": "execute_result"
    }
   ],
   "source": [
    "data_lite = data.drop(['ApprovalDate', 'City', 'ApprovalFY', 'BalanceGross', 'NoEmp', 'LoanNr_ChkDgt', 'Name', 'ChgOffDate', 'DisbursementDate', 'DisbursementGross', 'BankState', 'State', 'ChgOffPrinGr', 'GrAppv'], axis=1)\n",
    "data_lite.head(5)"
   ]
  },
  {
   "cell_type": "markdown",
   "metadata": {},
   "source": [
    "#####  Vérifier les types des variables, les valeurs manquantes ou suspectes.\n",
    "On vérifie les valeurs uniques pour chaque variable du dataframe ainsi que les 'missing values'."
   ]
  },
  {
   "cell_type": "code",
   "execution_count": 23,
   "metadata": {},
   "outputs": [
    {
     "name": "stdout",
     "output_type": "stream",
     "text": [
      "Zip                 0\n",
      "Bank             1559\n",
      "NAICS               0\n",
      "Term                0\n",
      "NewExist          136\n",
      "CreateJob           0\n",
      "RetainedJob         0\n",
      "FranchiseCode       0\n",
      "UrbanRural          0\n",
      "RevLineCr        4528\n",
      "LowDoc           2582\n",
      "MIS_Status       1997\n",
      "SBA_Appv            0\n",
      "dtype: int64\n"
     ]
    },
    {
     "data": {
      "text/plain": [
       "Zip                int64\n",
       "Bank              object\n",
       "NAICS              int64\n",
       "Term               int64\n",
       "NewExist         float64\n",
       "CreateJob          int64\n",
       "RetainedJob        int64\n",
       "FranchiseCode      int64\n",
       "UrbanRural         int64\n",
       "RevLineCr         object\n",
       "LowDoc            object\n",
       "MIS_Status        object\n",
       "SBA_Appv          object\n",
       "dtype: object"
      ]
     },
     "execution_count": 23,
     "metadata": {},
     "output_type": "execute_result"
    }
   ],
   "source": [
    "print(data_lite.isnull().sum())\n",
    "\n",
    "data_lite.dtypes\n"
   ]
  },
  {
   "cell_type": "markdown",
   "metadata": {},
   "source": [
    "Les variables numériques: NAICS, Term, NewExist, FranchiseCode, UrbanRural\n",
    "\n",
    "Les variables catégorielles: ApprovalDate, ApprovalFY, RevLineCr, LowDoc, MIS_Status (la target)."
   ]
  },
  {
   "cell_type": "code",
   "execution_count": 24,
   "metadata": {},
   "outputs": [
    {
     "data": {
      "text/plain": [
       "\"#pour la colonne ApprovalDate, on va réduire les modalités en ne considérant que l'année\\n# d'abord transformer la date en Y-M-D\\n\\ndata_lite['ApprovalDate'] = pd.to_datetime(data_lite['ApprovalDate'], format='%d-%b-%y', errors='coerce')\\ndata_lite['ApprovalDate_Year'] = data_lite['ApprovalDate'].dt.year\\ndata_lite = data_lite.drop('ApprovalDate', axis=1)\\n\\n#On verifie que les colonnes 'ApprovalDateYear' et 'ApprovalFY' sont identiques\\ndata_lite['ApprovalDate_Year'].equals(data_lite['ApprovalFY'])\\ndata_lite.head(2)\""
      ]
     },
     "execution_count": 24,
     "metadata": {},
     "output_type": "execute_result"
    }
   ],
   "source": [
    "\"\"\"#pour la colonne ApprovalDate, on va réduire les modalités en ne considérant que l'année\n",
    "# d'abord transformer la date en Y-M-D\n",
    "\n",
    "data_lite['ApprovalDate'] = pd.to_datetime(data_lite['ApprovalDate'], format='%d-%b-%y', errors='coerce')\n",
    "data_lite['ApprovalDate_Year'] = data_lite['ApprovalDate'].dt.year\n",
    "data_lite = data_lite.drop('ApprovalDate', axis=1)\n",
    "\n",
    "#On verifie que les colonnes 'ApprovalDateYear' et 'ApprovalFY' sont identiques\n",
    "data_lite['ApprovalDate_Year'].equals(data_lite['ApprovalFY'])\n",
    "data_lite.head(2)\"\"\""
   ]
  },
  {
   "cell_type": "markdown",
   "metadata": {},
   "source": [
    "Vérifier les valeurs uniques des colonnes. Si les valeurs différent des modalités officielles, on les remplace par NaN."
   ]
  },
  {
   "cell_type": "code",
   "execution_count": 25,
   "metadata": {},
   "outputs": [
    {
     "data": {
      "text/plain": [
       "dtype('int64')"
      ]
     },
     "execution_count": 25,
     "metadata": {},
     "output_type": "execute_result"
    }
   ],
   "source": [
    "data_lite['MIS_Status'].unique() \n",
    "\n",
    "# on supprime les valeurs manquantes de la target\n",
    "data_lite.dropna(subset=['MIS_Status'], inplace=True)\n",
    "\n",
    "# encodage de la target\n",
    "data_lite['MIS_Status'] = data_lite['MIS_Status'].map({'P I F': 0, 'CHGOFF': 1})\n",
    "data_lite.MIS_Status.dtype\n",
    "\n"
   ]
  },
  {
   "cell_type": "code",
   "execution_count": 26,
   "metadata": {},
   "outputs": [
    {
     "data": {
      "text/plain": [
       "array(['N', nan, 'Y'], dtype=object)"
      ]
     },
     "execution_count": 26,
     "metadata": {},
     "output_type": "execute_result"
    }
   ],
   "source": [
    "data_lite['RevLineCr'].unique() # renvoie:array(['N', '0', 'Y', 'T',......, 'Q']\n",
    "\n",
    "valeurs_odd = [ 'NaN', 'nan','0', 'T','`', ',', '1', 'C', '3', '2', 'R', '7','A', '5', '.', '4', '-', 'Q']\n",
    "\n",
    "data_lite['RevLineCr'] = data_lite['RevLineCr'].replace(valeurs_odd, np.nan)\n",
    "\n",
    "data_lite['RevLineCr'].unique()"
   ]
  },
  {
   "cell_type": "code",
   "execution_count": 27,
   "metadata": {},
   "outputs": [
    {
     "data": {
      "text/plain": [
       "array([ 84,  60, 180, 240, 120,  45, 297, 162,  12, 300,  87, 114, 144,\n",
       "       126,  83, 102,  80, 137,  42,  96, 167,   7,  36,  37,  26, 264,\n",
       "        72,  24,   5,  54,  66, 161,  71,   4,  93, 288, 108,  10,  13,\n",
       "        90,  19,  16,   3,  27, 149,  41, 246,  18,  57, 104,  82, 298,\n",
       "        14,  61, 127,  58,  44,  32,  85,  48,  31, 112,  38,  73,  47,\n",
       "        11, 134,  15,  79,  53,  39,   6, 255,  55, 133,  95,  35,  59,\n",
       "        62,  68, 123,  46,  70, 138,  40,  52,  25,  65,  91,   1,  74,\n",
       "        49, 103,  77,  86,  63,  56,  22,   0,  97,  23,  17,  69,  21,\n",
       "        43,  89, 276,  92, 183,   2, 132,  34, 131,   9,  78,  99, 129,\n",
       "       216,   8,  29, 289,  30, 119, 228, 168, 208,  81, 147, 125,  94,\n",
       "        51, 211,  64, 111, 266,  75, 306,  28, 232, 117, 118, 309, 303,\n",
       "        98, 191, 116,  76, 113, 292,  88, 166, 244, 176, 258, 203, 231,\n",
       "       142,  33, 157, 165,  50, 210, 294, 301, 106,  20, 318, 229, 204,\n",
       "       269, 241, 178, 115, 174, 192,  67, 100, 141, 282, 122, 156, 153,\n",
       "       268, 249, 238, 233, 105, 263, 124, 279, 140, 186, 107, 190, 308,\n",
       "       128, 243, 302, 299, 280, 223, 311, 222, 202, 257, 130, 101, 121,\n",
       "       278, 272, 319, 283, 221, 250, 290, 199, 252, 187, 310, 304, 136,\n",
       "       261, 196, 181, 175, 195, 177, 139, 110, 242, 270, 277, 184, 150,\n",
       "       207, 358, 213, 273, 357, 248, 275, 164, 239, 206, 215, 170, 254,\n",
       "       217, 172, 158, 218, 189, 256, 179, 262, 193, 146, 155, 135, 185,\n",
       "       307, 200, 109, 265, 349, 209, 236, 251, 145, 152, 169, 245, 230,\n",
       "       285, 201, 293, 171, 227, 188, 225, 247, 163, 143, 235, 160, 148,\n",
       "       253, 159, 295, 198, 271, 234, 237, 336, 220, 291, 287, 154, 219,\n",
       "       197, 312, 284, 281, 151, 267, 274, 182, 212, 305, 205, 226, 194,\n",
       "       259, 214, 173, 224, 385, 313, 340, 461, 296, 343, 348, 286, 260,\n",
       "       334, 320, 315, 360, 421, 342, 351, 372, 314, 354, 435, 316, 480,\n",
       "       329, 387, 325, 321, 317, 352, 359, 389, 333, 330, 417, 404, 370,\n",
       "       324, 398, 419, 425, 414, 365, 345, 481, 350, 335, 369, 341, 355,\n",
       "       362, 322, 339, 375, 323, 347, 327, 505, 326, 418, 328, 363, 413,\n",
       "       361, 356, 396, 438, 382, 364, 367, 374, 442, 353, 527, 569, 338,\n",
       "       366, 386, 368, 428, 346, 388, 430, 443, 381, 409, 445, 384, 391,\n",
       "       511, 412, 449, 403, 434, 402, 423, 440, 429])"
      ]
     },
     "execution_count": 27,
     "metadata": {},
     "output_type": "execute_result"
    }
   ],
   "source": [
    "data_lite['Term'].unique() #valeurs numériques "
   ]
  },
  {
   "cell_type": "code",
   "execution_count": 28,
   "metadata": {},
   "outputs": [
    {
     "data": {
      "text/plain": [
       "array([ 2.,  1., nan])"
      ]
     },
     "execution_count": 28,
     "metadata": {},
     "output_type": "execute_result"
    }
   ],
   "source": [
    "data_lite['NewExist'].unique()\n",
    "\n",
    "#relever les lignes avec la valeur 0 de ma colonne\n",
    "rows_with_zero = data_lite.loc[data_lite['NewExist']==0]\n",
    "rows_with_zero\n",
    "\n",
    "#remplacer les 0 par des Nan\n",
    "data_lite['NewExist'] = data_lite['NewExist'].replace(0, np.nan)\n",
    "data_lite['NewExist'].unique()"
   ]
  },
  {
   "cell_type": "code",
   "execution_count": 29,
   "metadata": {},
   "outputs": [
    {
     "data": {
      "text/plain": [
       "array([    1,     0, 15100, ...,  2899, 18701, 15930])"
      ]
     },
     "execution_count": 29,
     "metadata": {},
     "output_type": "execute_result"
    }
   ],
   "source": [
    "data_lite['FranchiseCode'].unique()"
   ]
  },
  {
   "cell_type": "code",
   "execution_count": 30,
   "metadata": {},
   "outputs": [
    {
     "data": {
      "text/plain": [
       "array([nan,  1.,  2.])"
      ]
     },
     "execution_count": 30,
     "metadata": {},
     "output_type": "execute_result"
    }
   ],
   "source": [
    "data_lite['UrbanRural'].unique() #remplace 0 par NaN\n",
    "\n",
    "#remplacer les 0 par des Nan\n",
    "data_lite['UrbanRural'] = data_lite['UrbanRural'].replace(0, np.nan)\n",
    "data_lite['UrbanRural'].unique()\n"
   ]
  },
  {
   "cell_type": "code",
   "execution_count": 31,
   "metadata": {},
   "outputs": [
    {
     "data": {
      "text/plain": [
       "array(['N', nan, 'Y'], dtype=object)"
      ]
     },
     "execution_count": 31,
     "metadata": {},
     "output_type": "execute_result"
    }
   ],
   "source": [
    "data_lite['LowDoc'].unique()\n",
    "valeurs_odd = ['C', '1','S', 'R', 'A', '0']\n",
    "data_lite['LowDoc'] = data_lite['RevLineCr'].replace(valeurs_odd, np.nan)\n",
    "data_lite['LowDoc'].unique()"
   ]
  },
  {
   "cell_type": "code",
   "execution_count": 32,
   "metadata": {},
   "outputs": [
    {
     "data": {
      "text/plain": [
       "Zip                int64\n",
       "Bank              object\n",
       "NAICS              int64\n",
       "Term               int64\n",
       "NewExist         float64\n",
       "CreateJob          int64\n",
       "RetainedJob        int64\n",
       "FranchiseCode      int64\n",
       "UrbanRural       float64\n",
       "RevLineCr         object\n",
       "LowDoc            object\n",
       "MIS_Status         int64\n",
       "SBA_Appv          object\n",
       "dtype: object"
      ]
     },
     "execution_count": 32,
     "metadata": {},
     "output_type": "execute_result"
    }
   ],
   "source": [
    "data_lite.dtypes"
   ]
  },
  {
   "cell_type": "code",
   "execution_count": 33,
   "metadata": {},
   "outputs": [
    {
     "data": {
      "text/plain": [
       "Zip                int64\n",
       "Bank              object\n",
       "NAICS              int64\n",
       "Term               int64\n",
       "NewExist         float64\n",
       "CreateJob          int64\n",
       "RetainedJob        int64\n",
       "FranchiseCode      int64\n",
       "UrbanRural       float64\n",
       "RevLineCr         object\n",
       "LowDoc            object\n",
       "MIS_Status         int64\n",
       "SBA_Appv          object\n",
       "dtype: object"
      ]
     },
     "execution_count": 33,
     "metadata": {},
     "output_type": "execute_result"
    }
   ],
   "source": [
    "#enlever le symbole $ de sbvappv\n",
    "\n",
    "data_lite[\"SBA_Appv\"] = data_lite[\"SBA_Appv\"].str.replace(\"$\", \"\")\n",
    "data_lite.head(2)\n",
    "data_lite.dtypes"
   ]
  },
  {
   "cell_type": "code",
   "execution_count": 34,
   "metadata": {},
   "outputs": [
    {
     "data": {
      "text/html": [
       "<div>\n",
       "<style scoped>\n",
       "    .dataframe tbody tr th:only-of-type {\n",
       "        vertical-align: middle;\n",
       "    }\n",
       "\n",
       "    .dataframe tbody tr th {\n",
       "        vertical-align: top;\n",
       "    }\n",
       "\n",
       "    .dataframe thead th {\n",
       "        text-align: right;\n",
       "    }\n",
       "</style>\n",
       "<table border=\"1\" class=\"dataframe\">\n",
       "  <thead>\n",
       "    <tr style=\"text-align: right;\">\n",
       "      <th></th>\n",
       "      <th>Zip</th>\n",
       "      <th>Bank</th>\n",
       "      <th>NAICS</th>\n",
       "      <th>Term</th>\n",
       "      <th>NewExist</th>\n",
       "      <th>CreateJob</th>\n",
       "      <th>RetainedJob</th>\n",
       "      <th>FranchiseCode</th>\n",
       "      <th>UrbanRural</th>\n",
       "      <th>RevLineCr</th>\n",
       "      <th>LowDoc</th>\n",
       "      <th>MIS_Status</th>\n",
       "      <th>SBA_Appv</th>\n",
       "    </tr>\n",
       "  </thead>\n",
       "  <tbody>\n",
       "    <tr>\n",
       "      <th>899162</th>\n",
       "      <td>96830</td>\n",
       "      <td>BANK OF HAWAII</td>\n",
       "      <td>0</td>\n",
       "      <td>60</td>\n",
       "      <td>1.0</td>\n",
       "      <td>0</td>\n",
       "      <td>0</td>\n",
       "      <td>0</td>\n",
       "      <td>NaN</td>\n",
       "      <td>N</td>\n",
       "      <td>N</td>\n",
       "      <td>1</td>\n",
       "      <td>60,000.00</td>\n",
       "    </tr>\n",
       "    <tr>\n",
       "      <th>899163</th>\n",
       "      <td>96734</td>\n",
       "      <td>CENTRAL PACIFIC BANK</td>\n",
       "      <td>0</td>\n",
       "      <td>48</td>\n",
       "      <td>2.0</td>\n",
       "      <td>0</td>\n",
       "      <td>0</td>\n",
       "      <td>0</td>\n",
       "      <td>NaN</td>\n",
       "      <td>N</td>\n",
       "      <td>N</td>\n",
       "      <td>0</td>\n",
       "      <td>24,000.00</td>\n",
       "    </tr>\n",
       "  </tbody>\n",
       "</table>\n",
       "</div>"
      ],
      "text/plain": [
       "          Zip                  Bank  NAICS  Term  NewExist  CreateJob  \\\n",
       "899162  96830        BANK OF HAWAII      0    60       1.0          0   \n",
       "899163  96734  CENTRAL PACIFIC BANK      0    48       2.0          0   \n",
       "\n",
       "        RetainedJob  FranchiseCode  UrbanRural RevLineCr LowDoc  MIS_Status  \\\n",
       "899162            0              0         NaN         N      N           1   \n",
       "899163            0              0         NaN         N      N           0   \n",
       "\n",
       "          SBA_Appv  \n",
       "899162  60,000.00   \n",
       "899163  24,000.00   "
      ]
     },
     "execution_count": 34,
     "metadata": {},
     "output_type": "execute_result"
    }
   ],
   "source": [
    "#la franchise code assigne un code lorsque l'entreprise est une franchise, ou 1 ou 0 lorsque ce n'est pas une franchise\n",
    "# on peut remplacer les valeurs par '0': pas de franchise et '1': franchise en 2 étapes\n",
    "\n",
    "data_lite.loc[data_lite['FranchiseCode']  <=1, 'FranchiseCode'] = 0\n",
    "\n",
    "data_lite.loc[data_lite['FranchiseCode'] > 0, 'FranchiseCode'] = 1\n",
    "\n",
    "data_lite.tail(2)"
   ]
  },
  {
   "cell_type": "code",
   "execution_count": 35,
   "metadata": {},
   "outputs": [
    {
     "data": {
      "text/plain": [
       "dtype('float64')"
      ]
     },
     "execution_count": 35,
     "metadata": {},
     "output_type": "execute_result"
    }
   ],
   "source": [
    "#supprimer les ',' dans la colonne SBA_Appv\n",
    "data_lite['SBA_Appv'] = data_lite['SBA_Appv'].str.replace(',', '').str.strip()\n",
    "data_lite['SBA_Appv'] = data_lite['SBA_Appv'].astype(float)\n",
    "data_lite['SBA_Appv'].dtypes"
   ]
  },
  {
   "cell_type": "markdown",
   "metadata": {},
   "source": [
    "#### Enregistre le dataframe data_lite pour le réutiliser dans le notebook modelisation\n"
   ]
  },
  {
   "cell_type": "code",
   "execution_count": 36,
   "metadata": {},
   "outputs": [],
   "source": [
    "data_lite.to_csv('data.csv', index=False)\n",
    "\n"
   ]
  }
 ],
 "metadata": {
  "kernelspec": {
   "display_name": "base",
   "language": "python",
   "name": "python3"
  },
  "language_info": {
   "codemirror_mode": {
    "name": "ipython",
    "version": 3
   },
   "file_extension": ".py",
   "mimetype": "text/x-python",
   "name": "python",
   "nbconvert_exporter": "python",
   "pygments_lexer": "ipython3",
   "version": "3.11.5"
  }
 },
 "nbformat": 4,
 "nbformat_minor": 2
}
